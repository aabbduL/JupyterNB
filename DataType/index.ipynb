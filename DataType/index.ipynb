{
 "cells": [
  {
   "cell_type": "code",
   "execution_count": 6,
   "metadata": {},
   "outputs": [],
   "source": [
    "# String = Karakter kata, misal: 'Abdul Karim', \"Zaidan\", \"27\"\n",
    "# Kumpulan karakter yang memiliki urutan(bisa diindex)\n",
    "# Mengindex urutan sebuah string \n",
    "# Kata           : 'S   a   y   a      B   e   l   a   j   a   r'\n",
    "# Index maju    :   0   1   2   3   4  5   6   7   8   9  10  11\n",
    "# Index mundur :    0 -11 -10  -9  -8 -7  -6  -5  -4  -3  -2  -1\n",
    "\n",
    "# Integer = Angka tanpa desimal, misal: 100, 54, 2, 39, 3902\n",
    "# Float = Angka dengan desimal, misal: 24.5, 19.4, 39.2, 44.0, 82.4\n",
    "# List = Kumpulan beberapa objek, misal: [1, \"27.0\", \"Zaidan\", 36, 90.3]\n",
    "# Dictionary = Kumpulan objek berpasangan, misal: {\"nama\":\"zaidan\", \"umur\":16}\n",
    "# Tuple = Kumpulan objek yang tidak bisa diubah, misal: (1, \"23.0\", \"abdul\", 14, 41.7)\n",
    "# Set = Kumpulan objek tanpa urutan(indexing), misal: {\"apel\", \"pisang\", \"mangga\"} \n",
    "# Boolean = True/False"
   ]
  },
  {
   "cell_type": "code",
   "execution_count": 7,
   "metadata": {},
   "outputs": [],
   "source": [
    "x = ['Abdul','Karim','Zaidan']"
   ]
  },
  {
   "cell_type": "code",
   "execution_count": 14,
   "metadata": {},
   "outputs": [
    {
     "data": {
      "text/plain": [
       "'Abdul'"
      ]
     },
     "execution_count": 14,
     "metadata": {},
     "output_type": "execute_result"
    }
   ],
   "source": [
    "x[0]"
   ]
  },
  {
   "cell_type": "code",
   "execution_count": 15,
   "metadata": {},
   "outputs": [
    {
     "data": {
      "text/plain": [
       "'Abdul Karim Zaidan'"
      ]
     },
     "execution_count": 15,
     "metadata": {},
     "output_type": "execute_result"
    }
   ],
   "source": [
    "\"Abdul Karim Zaidan\""
   ]
  },
  {
   "cell_type": "code",
   "execution_count": 17,
   "metadata": {},
   "outputs": [
    {
     "data": {
      "text/plain": [
       "'a'"
      ]
     },
     "execution_count": 17,
     "metadata": {},
     "output_type": "execute_result"
    }
   ],
   "source": [
    "\"Abdul Karim Zaidan\"[7]"
   ]
  },
  {
   "cell_type": "code",
   "execution_count": 20,
   "metadata": {},
   "outputs": [
    {
     "data": {
      "text/plain": [
       "'bdul Karim Z'"
      ]
     },
     "execution_count": 20,
     "metadata": {},
     "output_type": "execute_result"
    }
   ],
   "source": [
    "\"Abdul Karim Zaidan\"[1:13] # Huruf yg dikeluarkan/run selalu yang didepan ankanya, contoh: 13 --> 12"
   ]
  },
  {
   "cell_type": "code",
   "execution_count": 21,
   "metadata": {},
   "outputs": [
    {
     "data": {
      "text/plain": [
       "'Abdul Karim Zaidan'"
      ]
     },
     "execution_count": 21,
     "metadata": {},
     "output_type": "execute_result"
    }
   ],
   "source": [
    "\"Abdul Karim Zaidan\"[:] # [awal, akhir, jarak]"
   ]
  },
  {
   "cell_type": "code",
   "execution_count": 23,
   "metadata": {},
   "outputs": [
    {
     "data": {
      "text/plain": [
       "'AdlKrmZia'"
      ]
     },
     "execution_count": 23,
     "metadata": {},
     "output_type": "execute_result"
    }
   ],
   "source": [
    "\"Abdul Karim Zaidan\"[0::2] # kalo mau langsung print semua bisa pake 0:-1, ::1, atau 0::"
   ]
  },
  {
   "cell_type": "code",
   "execution_count": 25,
   "metadata": {},
   "outputs": [
    {
     "data": {
      "text/plain": [
       "'nadiaZ miraK ludbA'"
      ]
     },
     "execution_count": 25,
     "metadata": {},
     "output_type": "execute_result"
    }
   ],
   "source": [
    "\"Abdul Karim Zaidan\"[::-1] # dari belakang "
   ]
  },
  {
   "cell_type": "code",
   "execution_count": 27,
   "metadata": {},
   "outputs": [
    {
     "data": {
      "text/plain": [
       "[3, 6, 9]"
      ]
     },
     "execution_count": 27,
     "metadata": {},
     "output_type": "execute_result"
    }
   ],
   "source": [
    "item = [1,2,3,4,5,6,7,8,9,10]\n",
    "item[2::3]\n"
   ]
  }
 ],
 "metadata": {
  "interpreter": {
   "hash": "0d591c6e422414675974e227c13f5382000c440fedd3c5006ef2be5d887f0ba7"
  },
  "kernelspec": {
   "display_name": "Python 3.9.6 64-bit",
   "language": "python",
   "name": "python3"
  },
  "language_info": {
   "codemirror_mode": {
    "name": "ipython",
    "version": 3
   },
   "file_extension": ".py",
   "mimetype": "text/x-python",
   "name": "python",
   "nbconvert_exporter": "python",
   "pygments_lexer": "ipython3",
   "version": "3.9.6"
  },
  "orig_nbformat": 4
 },
 "nbformat": 4,
 "nbformat_minor": 2
}
