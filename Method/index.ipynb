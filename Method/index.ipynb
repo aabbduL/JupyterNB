{
 "cells": [
  {
   "cell_type": "code",
   "execution_count": 10,
   "metadata": {},
   "outputs": [],
   "source": [
    "var1 = \"Abdul Karim Zaidan\"\n",
    "# var1 ==> 'Abdul Karim Zaidan'"
   ]
  },
  {
   "cell_type": "code",
   "execution_count": 11,
   "metadata": {},
   "outputs": [],
   "source": [
    "var1 = var1.upper()\n",
    "# var1 ==> 'ABDUL KARIM ZAIDAN'\n",
    "# var1.split() ==> ['Abdul', 'Karim', 'Zaidan'] normalnya yang displit itu spasi\n",
    "# var1.split('A') ==> ['', 'BDUL K', 'RIM Z', 'ID', 'N'] batas potongnya 'A', setiap ada 'A' langsung buat index baru'"
   ]
  },
  {
   "cell_type": "markdown",
   "metadata": {},
   "source": [
    "Print Method & Formatting"
   ]
  },
  {
   "cell_type": "code",
   "execution_count": 15,
   "metadata": {},
   "outputs": [
    {
     "name": "stdout",
     "output_type": "stream",
     "text": [
      "Urutan ranking di kelas X MIA 3 Akmal Rama Abdul\n"
     ]
    }
   ],
   "source": [
    "print('Urutan ranking di kelas X MIA 3 {} {} {}'.format('Akmal','Rama','Abdul'))"
   ]
  },
  {
   "cell_type": "code",
   "execution_count": 16,
   "metadata": {},
   "outputs": [
    {
     "name": "stdout",
     "output_type": "stream",
     "text": [
      "Urutan ranking di kelas X MIA 3 Abdul Akmal Rama\n"
     ]
    }
   ],
   "source": [
    "print('Urutan ranking di kelas X MIA 3 {2} {0} {1}'.format('Akmal','Rama','Abdul'))"
   ]
  },
  {
   "cell_type": "code",
   "execution_count": 18,
   "metadata": {},
   "outputs": [
    {
     "name": "stdout",
     "output_type": "stream",
     "text": [
      "Urutan ranking di kelas X MIA 3 Akmal Abdul Rama\n"
     ]
    }
   ],
   "source": [
    "print('Urutan ranking di kelas X MIA 3 {a} {c} {b}'.format(a='Akmal',b='Rama',c='Abdul'))"
   ]
  },
  {
   "cell_type": "markdown",
   "metadata": {},
   "source": [
    "Contoh lebih advance"
   ]
  },
  {
   "cell_type": "code",
   "execution_count": 19,
   "metadata": {},
   "outputs": [],
   "source": [
    "luas1 = 667.9\n",
    "luas2 = 998.7"
   ]
  },
  {
   "cell_type": "code",
   "execution_count": 28,
   "metadata": {},
   "outputs": [
    {
     "name": "stdout",
     "output_type": "stream",
     "text": [
      "Luas tanah yang dimiliki Pak Abdul adalah 667.9 meter dan 998.7 meter\n"
     ]
    }
   ],
   "source": [
    "print('Luas tanah yang dimiliki Pak Abdul adalah {a} meter dan {b} meter'.format(a=luas1,b=luas2))"
   ]
  },
  {
   "cell_type": "code",
   "execution_count": 32,
   "metadata": {},
   "outputs": [
    {
     "name": "stdout",
     "output_type": "stream",
     "text": [
      "Luas tanah yang dimiliki Pak Abdul adalah    667.900 meter dan    998.700 meter\n"
     ]
    }
   ],
   "source": [
    "print('Luas tanah yang dimiliki Pak Abdul adalah {a:10.3f} meter dan {b:10.3f} meter'.format(a=luas1,b=luas2))\n",
    "# {a:10.3f} ==> maksudnya 10 itu lebar, kalo 3f itu berapa angka setelah koma"
   ]
  }
 ],
 "metadata": {
  "interpreter": {
   "hash": "0d591c6e422414675974e227c13f5382000c440fedd3c5006ef2be5d887f0ba7"
  },
  "kernelspec": {
   "display_name": "Python 3.9.6 64-bit",
   "language": "python",
   "name": "python3"
  },
  "language_info": {
   "codemirror_mode": {
    "name": "ipython",
    "version": 3
   },
   "file_extension": ".py",
   "mimetype": "text/x-python",
   "name": "python",
   "nbconvert_exporter": "python",
   "pygments_lexer": "ipython3",
   "version": "3.9.6"
  },
  "orig_nbformat": 4
 },
 "nbformat": 4,
 "nbformat_minor": 2
}
