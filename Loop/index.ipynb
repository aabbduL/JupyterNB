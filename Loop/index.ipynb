{
 "cells": [
  {
   "cell_type": "markdown",
   "metadata": {},
   "source": [
    "For Loop"
   ]
  },
  {
   "cell_type": "code",
   "execution_count": 4,
   "metadata": {},
   "outputs": [
    {
     "name": "stdout",
     "output_type": "stream",
     "text": [
      "a\n",
      "b\n",
      "d\n",
      "u\n",
      "l\n"
     ]
    }
   ],
   "source": [
    "for i in 'abdul':\n",
    "    print(i)"
   ]
  },
  {
   "cell_type": "code",
   "execution_count": 10,
   "metadata": {},
   "outputs": [
    {
     "name": "stdout",
     "output_type": "stream",
     "text": [
      "abdul"
     ]
    }
   ],
   "source": [
    "for i in 'abdul':\n",
    "    print(i,end='')"
   ]
  },
  {
   "cell_type": "code",
   "execution_count": 18,
   "metadata": {},
   "outputs": [
    {
     "name": "stdout",
     "output_type": "stream",
     "text": [
      "1\n",
      "2\n",
      "3\n",
      "4\n",
      "5\n"
     ]
    }
   ],
   "source": [
    "x = [1,2,3,4,5]\n",
    "for i in x:\n",
    "    print(i)"
   ]
  },
  {
   "cell_type": "code",
   "execution_count": 30,
   "metadata": {},
   "outputs": [
    {
     "name": "stdout",
     "output_type": "stream",
     "text": [
      "hasil penjumlahan pada iterator ke-1 adalah 1\n",
      "hasil penjumlahan pada iterator ke-2 adalah 3\n",
      "hasil penjumlahan pada iterator ke-3 adalah 6\n",
      "hasil penjumlahan pada iterator ke-4 adalah 10\n",
      "hasil penjumlahan pada iterator ke-5 adalah 15\n"
     ]
    }
   ],
   "source": [
    "res = 0\n",
    "for i in x:\n",
    "    res += i\n",
    "    print(f'hasil penjumlahan pada iterator ke-{i} adalah {res}')"
   ]
  },
  {
   "cell_type": "code",
   "execution_count": 31,
   "metadata": {},
   "outputs": [
    {
     "name": "stdout",
     "output_type": "stream",
     "text": [
      "hasil total:  30\n"
     ]
    }
   ],
   "source": [
    "for i in x:\n",
    "    res += i\n",
    "print('hasil total: ',res)"
   ]
  },
  {
   "cell_type": "markdown",
   "metadata": {},
   "source": [
    "Loop and conditional"
   ]
  },
  {
   "cell_type": "code",
   "execution_count": 33,
   "metadata": {},
   "outputs": [
    {
     "name": "stdout",
     "output_type": "stream",
     "text": [
      "huruf 'a' ini ada di index  2\n",
      "huruf 'a' ini ada di index  4\n",
      "huruf 'a' ini ada di index  9\n",
      "huruf 'a' ini ada di index  11\n"
     ]
    }
   ],
   "source": [
    "index = 0\n",
    "for i in 'Saya belajar Python':\n",
    "    index += 1\n",
    "    if i == 'a':\n",
    "        print(\"huruf 'a' ini ada di index \",index)\n"
   ]
  },
  {
   "cell_type": "markdown",
   "metadata": {},
   "source": [
    "Challenge"
   ]
  },
  {
   "cell_type": "code",
   "execution_count": 35,
   "metadata": {},
   "outputs": [
    {
     "name": "stdout",
     "output_type": "stream",
     "text": [
      "Angka 1 adalah ganjil\n",
      "Angka 2 adalah genap\n",
      "Angka 3 adalah ganjil\n",
      "Angka 4 adalah genap\n",
      "Angka 5 adalah ganjil\n",
      "Angka 6 adalah genap\n",
      "Angka 7 adalah ganjil\n",
      "Angka 8 adalah genap\n",
      "Angka 9 adalah ganjil\n",
      "Angka 10 adalah genap\n"
     ]
    }
   ],
   "source": [
    "angka = [1,2,3,4,5,6,7,8,9,10]\n",
    "for i in angka:\n",
    "    if i%2 != 0:\n",
    "        print(f'Angka {i} adalah ganjil')\n",
    "    else:\n",
    "        print(f'Angka {i} adalah genap')\n"
   ]
  },
  {
   "cell_type": "markdown",
   "metadata": {},
   "source": [
    "For Loop with tuple and list multiple items"
   ]
  },
  {
   "cell_type": "code",
   "execution_count": 46,
   "metadata": {},
   "outputs": [],
   "source": [
    "box1 = ((1,2),(3,4),(5,6))"
   ]
  },
  {
   "cell_type": "code",
   "execution_count": 47,
   "metadata": {},
   "outputs": [
    {
     "name": "stdout",
     "output_type": "stream",
     "text": [
      "(1, 2)\n",
      "(3, 4)\n",
      "(5, 6)\n"
     ]
    }
   ],
   "source": [
    "for i in box1:\n",
    "    print(i)"
   ]
  },
  {
   "cell_type": "code",
   "execution_count": 49,
   "metadata": {},
   "outputs": [
    {
     "name": "stdout",
     "output_type": "stream",
     "text": [
      "1 2\n",
      "3 4\n",
      "5 6\n"
     ]
    }
   ],
   "source": [
    "for i,j in box1:\n",
    "    # print(i)==> 1,3,5\n",
    "    # print(j)==>  2,4,6\n",
    "    print(i,j)"
   ]
  },
  {
   "cell_type": "code",
   "execution_count": 51,
   "metadata": {},
   "outputs": [
    {
     "name": "stdout",
     "output_type": "stream",
     "text": [
      "1 2\n",
      "3 4\n",
      "5 6\n"
     ]
    }
   ],
   "source": [
    "box2 = [[1,2],[3,4],[5,6]]\n",
    "for i,j in box2:\n",
    "    print(i,j)"
   ]
  },
  {
   "cell_type": "code",
   "execution_count": 55,
   "metadata": {},
   "outputs": [
    {
     "name": "stdout",
     "output_type": "stream",
     "text": [
      "1 2 a\n",
      "3 4 b\n",
      "5 6 c\n"
     ]
    }
   ],
   "source": [
    "box3 = [[1,2,'a'],[3,4,'b'],[5,6,'c']]\n",
    "for i,j,k in box3:\n",
    "    print(i,j,k)"
   ]
  },
  {
   "cell_type": "code",
   "execution_count": null,
   "metadata": {},
   "outputs": [],
   "source": []
  }
 ],
 "metadata": {
  "interpreter": {
   "hash": "0d591c6e422414675974e227c13f5382000c440fedd3c5006ef2be5d887f0ba7"
  },
  "kernelspec": {
   "display_name": "Python 3.9.6 64-bit",
   "language": "python",
   "name": "python3"
  },
  "language_info": {
   "codemirror_mode": {
    "name": "ipython",
    "version": 3
   },
   "file_extension": ".py",
   "mimetype": "text/x-python",
   "name": "python",
   "nbconvert_exporter": "python",
   "pygments_lexer": "ipython3",
   "version": "3.9.6"
  },
  "orig_nbformat": 4
 },
 "nbformat": 4,
 "nbformat_minor": 2
}
