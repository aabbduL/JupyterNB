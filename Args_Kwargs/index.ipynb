{
 "cells": [
  {
   "cell_type": "markdown",
   "metadata": {},
   "source": [
    "Function"
   ]
  },
  {
   "cell_type": "code",
   "execution_count": 3,
   "metadata": {},
   "outputs": [
    {
     "name": "stdout",
     "output_type": "stream",
     "text": [
      "42\n"
     ]
    }
   ],
   "source": [
    "def multiple(num1,num2):\n",
    "    return num1*num2\n",
    "x = multiple(6,7)\n",
    "print(x)"
   ]
  },
  {
   "cell_type": "code",
   "execution_count": 8,
   "metadata": {},
   "outputs": [
    {
     "name": "stdout",
     "output_type": "stream",
     "text": [
      "Nama Saya Abdul\n",
      "Nama Saya Zaidan\n"
     ]
    }
   ],
   "source": [
    "def myName(nama='Abdul'): # Deafult Argument\n",
    "    print(f\"Nama Saya {nama}\")\n",
    "myName()\n",
    "myName(\"Zaidan\")"
   ]
  },
  {
   "cell_type": "code",
   "execution_count": 11,
   "metadata": {},
   "outputs": [
    {
     "name": "stdout",
     "output_type": "stream",
     "text": [
      "Even\n",
      "Odd\n"
     ]
    }
   ],
   "source": [
    "def evenDetect(n):\n",
    "    if n %2 == 0:\n",
    "        print(\"Even\")\n",
    "    else:\n",
    "        print(\"Odd\")\n",
    "\n",
    "evenDetect(2)\n",
    "evenDetect(11)"
   ]
  },
  {
   "cell_type": "code",
   "execution_count": 39,
   "metadata": {},
   "outputs": [
    {
     "data": {
      "text/plain": [
       "True"
      ]
     },
     "execution_count": 39,
     "metadata": {},
     "output_type": "execute_result"
    }
   ],
   "source": [
    "s = input(\"Enter Your Name: \")\n",
    "def sentence_check(i):\n",
    "    if \"Zaidan\".lower() in i:\n",
    "        return True\n",
    "    else:\n",
    "        return False\n",
    "\n",
    "# Kalo mau lebih pythonic, gausah pake if,else, tapi langsung aja di return \"Zaidan\".lower() in i\n",
    "sentence_check(s)"
   ]
  },
  {
   "cell_type": "markdown",
   "metadata": {},
   "source": [
    "*Args and **Kwargs"
   ]
  },
  {
   "cell_type": "code",
   "execution_count": 45,
   "metadata": {},
   "outputs": [
    {
     "data": {
      "text/plain": [
       "9202"
      ]
     },
     "execution_count": 45,
     "metadata": {},
     "output_type": "execute_result"
    }
   ],
   "source": [
    "def tambah(*n): # args itu tuple\n",
    "    return sum((n)) # harus ada 2 tanda (), kalo ga error\n",
    "tambah(41,94,56,7,8845,3,112,44) # bisa berapa aja"
   ]
  },
  {
   "cell_type": "code",
   "execution_count": 55,
   "metadata": {},
   "outputs": [
    {
     "name": "stdout",
     "output_type": "stream",
     "text": [
      "Nama: Abdul\n",
      "Umur: 16\n"
     ]
    }
   ],
   "source": [
    "def identity(**i):\n",
    "    print(f\"Nama: {i['Nama']}\\nUmur: {i['Umur']}\")\n",
    "\n",
    "identity(Nama=\"Abdul\", Umur=16)"
   ]
  },
  {
   "cell_type": "code",
   "execution_count": null,
   "metadata": {},
   "outputs": [],
   "source": []
  }
 ],
 "metadata": {
  "kernelspec": {
   "display_name": "Python 3.9.6 64-bit",
   "language": "python",
   "name": "python3"
  },
  "language_info": {
   "codemirror_mode": {
    "name": "ipython",
    "version": 3
   },
   "file_extension": ".py",
   "mimetype": "text/x-python",
   "name": "python",
   "nbconvert_exporter": "python",
   "pygments_lexer": "ipython3",
   "version": "3.9.6"
  },
  "orig_nbformat": 4,
  "vscode": {
   "interpreter": {
    "hash": "0d591c6e422414675974e227c13f5382000c440fedd3c5006ef2be5d887f0ba7"
   }
  }
 },
 "nbformat": 4,
 "nbformat_minor": 2
}
